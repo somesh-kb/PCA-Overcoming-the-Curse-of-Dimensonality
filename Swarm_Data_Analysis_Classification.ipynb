{
  "nbformat": 4,
  "nbformat_minor": 0,
  "metadata": {
    "colab": {
      "name": "Swarm-Data-Analysis-Classification.ipynb",
      "provenance": [],
      "authorship_tag": "ABX9TyMs3NIIqpVhtT+AxG3y1AuR",
      "include_colab_link": true
    },
    "kernelspec": {
      "display_name": "Python 3",
      "name": "python3"
    }
  },
  "cells": [
    {
      "cell_type": "markdown",
      "metadata": {
        "id": "view-in-github",
        "colab_type": "text"
      },
      "source": [
        "<a href=\"https://colab.research.google.com/github/somesh-kb/Swarm-Data-Analysis/blob/main/Swarm_Data_Analysis_Classification.ipynb\" target=\"_parent\"><img src=\"https://colab.research.google.com/assets/colab-badge.svg\" alt=\"Open In Colab\"/></a>"
      ]
    },
    {
      "cell_type": "code",
      "metadata": {
        "colab": {
          "base_uri": "https://localhost:8080/"
        },
        "id": "ma8WLv6jW3_a",
        "outputId": "4d31341e-8c82-433c-c8ca-dda97842db7b"
      },
      "source": [
        "from google.colab import drive\r\n",
        "drive.mount('/content/drive')\r\n",
        "\r\n"
      ],
      "execution_count": 1,
      "outputs": [
        {
          "output_type": "stream",
          "text": [
            "Mounted at /content/drive\n"
          ],
          "name": "stdout"
        }
      ]
    },
    {
      "cell_type": "code",
      "metadata": {
        "id": "HgHRH7K0W_gO"
      },
      "source": [
        "import pandas as pd\r\n",
        "import numpy as np "
      ],
      "execution_count": 2,
      "outputs": []
    },
    {
      "cell_type": "markdown",
      "metadata": {
        "id": "9CaaMlIFkwe-"
      },
      "source": [
        "# **Read the input files**"
      ]
    },
    {
      "cell_type": "code",
      "metadata": {
        "id": "NB1yLoFWXhnk"
      },
      "source": [
        "file_align = pd.read_csv(r'/content/drive/MyDrive/Boid_Swarm_Data/Aligned.csv')\r\n",
        "df_align = pd.DataFrame(file_align)"
      ],
      "execution_count": 4,
      "outputs": []
    },
    {
      "cell_type": "code",
      "metadata": {
        "colab": {
          "base_uri": "https://localhost:8080/"
        },
        "id": "myC7_YK6bgpe",
        "outputId": "7b38883e-9bc7-4434-ecf3-6d9b28788d70"
      },
      "source": [
        "print(df_align.head(10))"
      ],
      "execution_count": 5,
      "outputs": [
        {
          "output_type": "stream",
          "text": [
            "        x1      y1  xVel1  yVel1   xA1  ...  xC200  yC200  nAC200  nS200  Class\n",
            "0 -1414.14 -535.22 -17.88  -7.23  0.00  ...   0.00   0.00      29      0      0\n",
            "1 -1412.93  597.54 -13.55  -5.48  0.00  ...   0.00   0.00      44      0      0\n",
            "2 -1407.38   70.72 -14.37  -5.81  0.00  ...   0.00   0.00      40      0      0\n",
            "3 -1407.00 -759.80  -7.59  -1.27 -0.98  ...  -0.52   0.86       3      0      1\n",
            "4 -1406.36  698.39 -16.54  -6.95 -1.00  ...   0.00   0.00      13      0      0\n",
            "5 -1405.34 -796.19 -11.18  -4.52  0.00  ...   0.00   0.00      17      1      0\n",
            "6 -1405.05  645.56  -9.01  -1.16  0.00  ...  -0.02   1.00       1      0      1\n",
            "7 -1405.00  993.01  -5.41  -3.96  0.00  ...   0.00   0.00       0      0      0\n",
            "8 -1404.81  939.49  -5.44  -2.20  0.00  ...   0.00   0.00      27      1      0\n",
            "9 -1404.73 -189.29  -8.37  -3.17 -0.56  ...  -0.30   0.10      16      0      1\n",
            "\n",
            "[10 rows x 2401 columns]\n"
          ],
          "name": "stdout"
        }
      ]
    },
    {
      "cell_type": "code",
      "metadata": {
        "colab": {
          "base_uri": "https://localhost:8080/"
        },
        "id": "M84F3kItaNgQ",
        "outputId": "f76a1020-d13c-4766-c80f-376e7a112487"
      },
      "source": [
        "df_align['Class'].unique()\n",
        "df_align['Class'].value_counts()"
      ],
      "execution_count": 6,
      "outputs": [
        {
          "output_type": "execute_result",
          "data": {
            "text/plain": [
              "0    16511\n",
              "1     7505\n",
              "Name: Class, dtype: int64"
            ]
          },
          "metadata": {
            "tags": []
          },
          "execution_count": 6
        }
      ]
    },
    {
      "cell_type": "code",
      "metadata": {
        "colab": {
          "base_uri": "https://localhost:8080/"
        },
        "id": "jKbW4Df2bpUJ",
        "outputId": "0002bea7-bfa4-4a34-a3d8-85246725723e"
      },
      "source": [
        "print(df_align.shape)"
      ],
      "execution_count": 7,
      "outputs": [
        {
          "output_type": "stream",
          "text": [
            "(24016, 2401)\n"
          ],
          "name": "stdout"
        }
      ]
    },
    {
      "cell_type": "code",
      "metadata": {
        "colab": {
          "base_uri": "https://localhost:8080/"
        },
        "id": "lQTrNFpNbymk",
        "outputId": "908a968c-04fe-445b-acb7-b1b05dc912b9"
      },
      "source": [
        "print(df_align.describe())"
      ],
      "execution_count": 8,
      "outputs": [
        {
          "output_type": "stream",
          "text": [
            "                 x1            y1  ...        nS200         Class\n",
            "count  24016.000000  24016.000000  ...  24016.00000  24016.000000\n",
            "mean     108.310513    -73.077114  ...      2.14736      0.312500\n",
            "std      842.175333    572.552115  ...      7.53273      0.463522\n",
            "min    -1414.140000  -1012.180000  ...      0.00000      0.000000\n",
            "25%     -539.662500   -609.352500  ...      0.00000      0.000000\n",
            "50%      156.085000   -156.685000  ...      0.00000      0.000000\n",
            "75%      898.112500    424.445000  ...      1.00000      1.000000\n",
            "max     1406.080000   1015.800000  ...     65.00000      1.000000\n",
            "\n",
            "[8 rows x 2401 columns]\n"
          ],
          "name": "stdout"
        }
      ]
    },
    {
      "cell_type": "code",
      "metadata": {
        "colab": {
          "base_uri": "https://localhost:8080/"
        },
        "id": "vDjF7cyqce5E",
        "outputId": "48697d77-fc0d-46ef-cfc1-6a72e7ac8b9a"
      },
      "source": [
        "print(df_align.dtypes)"
      ],
      "execution_count": 9,
      "outputs": [
        {
          "output_type": "stream",
          "text": [
            "x1        float64\n",
            "y1        float64\n",
            "xVel1     float64\n",
            "yVel1     float64\n",
            "xA1       float64\n",
            "           ...   \n",
            "xC200     float64\n",
            "yC200     float64\n",
            "nAC200      int64\n",
            "nS200       int64\n",
            "Class       int64\n",
            "Length: 2401, dtype: object\n"
          ],
          "name": "stdout"
        }
      ]
    },
    {
      "cell_type": "code",
      "metadata": {
        "id": "YHc6Zd5SpmrQ"
      },
      "source": [
        "Y= df_align['Class']\n",
        "X = df_align.drop(['Class'],axis=1)"
      ],
      "execution_count": 10,
      "outputs": []
    },
    {
      "cell_type": "code",
      "metadata": {
        "colab": {
          "base_uri": "https://localhost:8080/"
        },
        "id": "iN7GQUJRNMFg",
        "outputId": "979dd0db-ab98-4619-c565-b4ee4ddca227"
      },
      "source": [
        "print(X.shape)"
      ],
      "execution_count": 11,
      "outputs": [
        {
          "output_type": "stream",
          "text": [
            "(24016, 2400)\n"
          ],
          "name": "stdout"
        }
      ]
    },
    {
      "cell_type": "code",
      "metadata": {
        "colab": {
          "base_uri": "https://localhost:8080/"
        },
        "id": "5EHXG-IANxIx",
        "outputId": "b5fed288-cb87-4b0d-dffa-0144b7c013c4"
      },
      "source": [
        "from sklearn.preprocessing import StandardScaler,Normalizer\n",
        "\n",
        "ss = StandardScaler()\n",
        "\n",
        "Xss = ss.fit_transform(X)\n",
        "\n",
        "print(Xss)"
      ],
      "execution_count": 12,
      "outputs": [
        {
          "output_type": "stream",
          "text": [
            "[[-1.8077972  -0.80717981 -2.65979237 ... -0.13947491  0.08063396\n",
            "  -0.28507658]\n",
            " [-1.80636042  1.17130137 -1.98796576 ... -0.13947491  0.52185854\n",
            "  -0.28507658]\n",
            " [-1.7997702   0.25115636 -2.11519389 ... -0.13947491  0.40419866\n",
            "  -0.28507658]\n",
            " ...\n",
            " [ 1.5389865   0.37968882  1.19739228 ... -0.13947491 -0.62532536\n",
            "  -0.15231982]\n",
            " [ 1.53925961 -0.42350369  1.12291727 ... -0.13947491 -0.74298525\n",
            "  -0.28507658]\n",
            " [ 1.54100513 -0.49156878  1.66596419 ... -0.26990458 -0.77240022\n",
            "  -0.28507658]]\n"
          ],
          "name": "stdout"
        }
      ]
    },
    {
      "cell_type": "code",
      "metadata": {
        "colab": {
          "base_uri": "https://localhost:8080/"
        },
        "id": "Zv_lInWGVoak",
        "outputId": "88907bbf-4346-426d-fbf5-003305e6d041"
      },
      "source": [
        "from sklearn.decomposition import PCA\n",
        "\n",
        "\n",
        "\n",
        "pca = PCA(n_components=0.95)\n",
        "\n",
        "pca.fit(Xss)\n",
        "\n",
        "Z = pca.transform(Xss)\n",
        "print(Z)"
      ],
      "execution_count": 13,
      "outputs": [
        {
          "output_type": "stream",
          "text": [
            "[[-11.56712802  -0.18108254 -11.15037491 ...  -0.52370035   0.71638231\n",
            "    0.14273308]\n",
            " [-11.53780002  -0.15190809 -10.72767892 ...   0.46346449   0.22673795\n",
            "   -0.37887615]\n",
            " [-11.02441902   0.86510374 -11.17518334 ...   0.30427486   0.89717232\n",
            "   -0.35284091]\n",
            " ...\n",
            " [  5.06297997  -5.9621429   -6.65906255 ...  -0.85509957  -0.11057398\n",
            "    0.41794927]\n",
            " [  3.9539594   -6.42860559  -6.24460545 ...  -0.45412174  -0.39671027\n",
            "   -0.05442894]\n",
            " [ -2.62428503  -7.74232956  -7.91570031 ...  -0.42802649   0.61996964\n",
            "    0.41549629]]\n"
          ],
          "name": "stdout"
        }
      ]
    },
    {
      "cell_type": "code",
      "metadata": {
        "colab": {
          "base_uri": "https://localhost:8080/"
        },
        "id": "oV0Lp-qjXNI7",
        "outputId": "86df282d-7f65-49d7-9a98-e608249574a7"
      },
      "source": [
        "print(Z.shape)"
      ],
      "execution_count": 14,
      "outputs": [
        {
          "output_type": "stream",
          "text": [
            "(24016, 750)\n"
          ],
          "name": "stdout"
        }
      ]
    },
    {
      "cell_type": "code",
      "metadata": {
        "colab": {
          "base_uri": "https://localhost:8080/",
          "height": 286
        },
        "id": "GzcqyINQYvEx",
        "outputId": "c01f57c9-1d88-4629-bf85-761022d3594c"
      },
      "source": [
        "import matplotlib.pyplot as plt \n",
        "\n",
        "plt.scatter(Z[:,0],Z[:,1],c=Y)\n",
        "#plt.scatter(Z[:,2],Z[:,3],c=Y)\n",
        "plt.show()"
      ],
      "execution_count": 15,
      "outputs": [
        {
          "output_type": "display_data",
          "data": {
            "image/png": "[encoded data removed]",
            "text/plain": [
              "<Figure size 432x288 with 1 Axes>"
            ]
          },
          "metadata": {
            "tags": [],
            "needs_background": "light"
          }
        }
      ]
    },
    {
      "cell_type": "code",
      "metadata": {
        "id": "M8pp8awPbN7g"
      },
      "source": [
        "from sklearn.model_selection import train_test_split \n",
        "\n",
        "X_train,X_test,Y_train,Y_test = train_test_split(Z,Y,test_size=0.25,random_state=1225)"
      ],
      "execution_count": 16,
      "outputs": []
    },
    {
      "cell_type": "code",
      "metadata": {
        "colab": {
          "base_uri": "https://localhost:8080/"
        },
        "id": "ez22bnKMuV5y",
        "outputId": "203fbdf2-833f-4dea-c4ea-24f91ede2af7"
      },
      "source": [
        "from sklearn.svm import SVC \n",
        "\n",
        "svc = SVC()\n",
        "\n",
        "print(svc.get_params)"
      ],
      "execution_count": 17,
      "outputs": [
        {
          "output_type": "stream",
          "text": [
            "<bound method BaseEstimator.get_params of SVC(C=1.0, break_ties=False, cache_size=200, class_weight=None, coef0=0.0,\n",
            "    decision_function_shape='ovr', degree=3, gamma='scale', kernel='rbf',\n",
            "    max_iter=-1, probability=False, random_state=None, shrinking=True,\n",
            "    tol=0.001, verbose=False)>\n"
          ],
          "name": "stdout"
        }
      ]
    },
    {
      "cell_type": "code",
      "metadata": {
        "colab": {
          "base_uri": "https://localhost:8080/"
        },
        "id": "e_Uz88YYvlmB",
        "outputId": "14f307d0-a6eb-4a9c-fa63-da9334e3074c"
      },
      "source": [
        "from sklearn.model_selection import RandomizedSearchCV\n",
        "\n",
        "C = [x for x in np.arange(0.1,5,0.05)]\n",
        "\n",
        "coef0 = [x for x in np.arange(0.0,1.5,0.05)]\n",
        "\n",
        "degree =[int(x) for x in np.arange(2,15,1)]\n",
        "\n",
        "kernel=['linear','poly','rbf','sigmoid']\n",
        "\n",
        "decision_function_shape = ['ovo', 'ovr']\n",
        "\n",
        "#tol = [x for x in np.arange(0.0005,0.001,0.0001)]\n",
        "param_grid = {'C':C, 'coef0':coef0, 'kernel':kernel, 'decision_function_shape':decision_function_shape}\n",
        "\n",
        "rs_cv = RandomizedSearchCV(estimator=svc,param_distributions=param_grid,cv=10,n_iter=100,random_state=25,n_jobs=-1)\n",
        "rs_cv.fit(X_train,Y_train)\n",
        "print(rs_cv.best_params_)"
      ],
      "execution_count": 18,
      "outputs": [
        {
          "output_type": "stream",
          "text": [
            "{'kernel': 'rbf', 'decision_function_shape': 'ovo', 'coef0': 0.8500000000000001, 'C': 1.4500000000000006}\n"
          ],
          "name": "stdout"
        }
      ]
    },
    {
      "cell_type": "code",
      "metadata": {
        "id": "cuXTSJRwzNwI"
      },
      "source": [
        "svc = SVC(kernel='rbf',decision_function_shape= 'ovo', coef0= 0.8500000000000001, C= 1.4500000000000006)\n",
        "svc.fit(X_train,Y_train)\n",
        "Y_pred = svc.predict(X_test)"
      ],
      "execution_count": 19,
      "outputs": []
    },
    {
      "cell_type": "code",
      "metadata": {
        "colab": {
          "base_uri": "https://localhost:8080/"
        },
        "id": "HHtDCq9c7u39",
        "outputId": "5f6dca37-7588-48ac-b3f8-a5e2b43c6403"
      },
      "source": [
        "from sklearn.metrics import classification_report, confusion_matrix\n",
        "\n",
        "print(confusion_matrix(Y_test,Y_pred))"
      ],
      "execution_count": 20,
      "outputs": [
        {
          "output_type": "stream",
          "text": [
            "[[4087    0]\n",
            " [   0 1917]]\n"
          ],
          "name": "stdout"
        }
      ]
    },
    {
      "cell_type": "code",
      "metadata": {
        "colab": {
          "base_uri": "https://localhost:8080/"
        },
        "id": "rhTXKn0A7-y7",
        "outputId": "4b83c62e-11d7-4569-e9dc-86b57bf9af23"
      },
      "source": [
        "print(classification_report(Y_test,Y_pred))"
      ],
      "execution_count": 21,
      "outputs": [
        {
          "output_type": "stream",
          "text": [
            "              precision    recall  f1-score   support\n",
            "\n",
            "           0       1.00      1.00      1.00      4087\n",
            "           1       1.00      1.00      1.00      1917\n",
            "\n",
            "    accuracy                           1.00      6004\n",
            "   macro avg       1.00      1.00      1.00      6004\n",
            "weighted avg       1.00      1.00      1.00      6004\n",
            "\n"
          ],
          "name": "stdout"
        }
      ]
    },
    {
      "cell_type": "code",
      "metadata": {
        "id": "qW_833iI8kGG",
        "colab": {
          "base_uri": "https://localhost:8080/"
        },
        "outputId": "1c04231b-a865-40ba-ff8c-3e676f4bed28"
      },
      "source": [
        "print(Y_test.value_counts())"
      ],
      "execution_count": 24,
      "outputs": [
        {
          "output_type": "stream",
          "text": [
            "0    4087\n",
            "1    1917\n",
            "Name: Class, dtype: int64\n"
          ],
          "name": "stdout"
        }
      ]
    },
    {
      "cell_type": "code",
      "metadata": {
        "id": "C2U-fAsw8sRL"
      },
      "source": [
        ""
      ],
      "execution_count": null,
      "outputs": []
    }
  ]
}